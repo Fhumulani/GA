{
 "cells": [
  {
   "cell_type": "code",
   "execution_count": 1,
   "metadata": {
    "collapsed": true
   },
   "outputs": [],
   "source": [
    "import numpy as np\n",
    "import pandas as pd"
   ]
  },
  {
   "cell_type": "code",
   "execution_count": 87,
   "metadata": {
    "collapsed": false
   },
   "outputs": [],
   "source": [
    "def initialize(M,N):\n",
    "    population = np.zeros((M,N))\n",
    "    for i in range(M):\n",
    "        for j in range(N):\n",
    "            population[i][j] = np.random.randint(0,2)\n",
    "   \n",
    "    return pd.DataFrame(population)"
   ]
  },
  {
   "cell_type": "code",
   "execution_count": 88,
   "metadata": {
    "collapsed": true
   },
   "outputs": [],
   "source": [
    "def Sphere(X):\n",
    "    fitness_value = sum(np.square(X))\n",
    "    return fitness_value"
   ]
  },
  {
   "cell_type": "code",
   "execution_count": 203,
   "metadata": {
    "collapsed": false
   },
   "outputs": [],
   "source": [
    "def selection(population):\n",
    "    nom_sum = sum(population['fitness'])\n",
    "    normalized_fitnesses = population['fitness']/nom_sum\n",
    "    \n",
    "    \n",
    "    \n",
    "    nom = normalized_fitnesses.sort_values(ascending=False)\n",
    "    \n",
    "    sorted_idx= list(nom.index)\n",
    "    \n",
    "    nom_fit = list(nom[:])\n",
    "\n",
    "    \n",
    "    temp_pop = population.copy()\n",
    "    \n",
    "    for i in range(len(population)):\n",
    "        temp_pop.iloc[i] = population.iloc[sorted_idx[i]]\n",
    "        temp_pop.fitness[i] = nom_fit[i]\n",
    "        \n",
    "    cumsums = np.zeros((len(population),1))\n",
    "    #print(temp_pop.fitness)\n",
    "    for i in range(len(cumsums)):        \n",
    "        cumsums[i] = sum(temp_pop.fitness[i:])\n",
    "\n",
    "    R = np.random.random(0,1)\n",
    "    parent1_idx = len(population)-1;\n",
    "    for i in range(len(cumsums)):\n",
    "        if R > cumsum[i]\n",
    "            parent1_idx = i - 1;\n",
    "            break;\n",
    "    \n",
    "    parent2_idx = parent1_idx;\n",
    "\n",
    "    while parent2_idx == parent1_idx\n",
    "        R = np.random.random(0,1)\n",
    "        for i in range(len(cumsums)):\n",
    "            if R > cumsum[i]\n",
    "                parent2_idx = i - 1;\n",
    "                break;\n"
   ]
  },
  {
   "cell_type": "code",
   "execution_count": 206,
   "metadata": {
    "collapsed": false
   },
   "outputs": [
    {
     "name": "stdout",
     "output_type": "stream",
     "text": [
      "[[1.        ]\n",
      " [0.82608696]\n",
      " [0.65217391]\n",
      " [0.47826087]\n",
      " [0.34782609]\n",
      " [0.26086957]\n",
      " [0.17391304]\n",
      " [0.13043478]\n",
      " [0.08695652]\n",
      " [0.04347826]]\n"
     ]
    }
   ],
   "source": [
    "M = 10 #number of chromoseomes\n",
    "\n",
    "N = 5 #number of genes\n",
    "\n",
    "population = initialize(M,N)\n",
    "\n",
    "\n",
    "\n",
    "fitness = []\n",
    "\n",
    "for i in range(M):\n",
    "    fitness.append(Sphere(population.iloc[i]))\n",
    "\n",
    "\n",
    "population['fitness'] = fitness\n",
    "\n",
    "\n",
    "selection(population)\n"
   ]
  },
  {
   "cell_type": "code",
   "execution_count": 115,
   "metadata": {
    "collapsed": false
   },
   "outputs": [],
   "source": [
    "pp = pd.DataFrame([1,2,3,4,5])"
   ]
  },
  {
   "cell_type": "code",
   "execution_count": 117,
   "metadata": {
    "collapsed": false
   },
   "outputs": [],
   "source": [
    "ppp = pp"
   ]
  },
  {
   "cell_type": "code",
   "execution_count": 119,
   "metadata": {
    "collapsed": false
   },
   "outputs": [],
   "source": [
    "ppp.iloc[0][0] = 2"
   ]
  },
  {
   "cell_type": "code",
   "execution_count": 120,
   "metadata": {
    "collapsed": false
   },
   "outputs": [
    {
     "data": {
      "text/html": [
       "<div>\n",
       "<style scoped>\n",
       "    .dataframe tbody tr th:only-of-type {\n",
       "        vertical-align: middle;\n",
       "    }\n",
       "\n",
       "    .dataframe tbody tr th {\n",
       "        vertical-align: top;\n",
       "    }\n",
       "\n",
       "    .dataframe thead th {\n",
       "        text-align: right;\n",
       "    }\n",
       "</style>\n",
       "<table border=\"1\" class=\"dataframe\">\n",
       "  <thead>\n",
       "    <tr style=\"text-align: right;\">\n",
       "      <th></th>\n",
       "      <th>0</th>\n",
       "    </tr>\n",
       "  </thead>\n",
       "  <tbody>\n",
       "    <tr>\n",
       "      <th>0</th>\n",
       "      <td>2</td>\n",
       "    </tr>\n",
       "    <tr>\n",
       "      <th>1</th>\n",
       "      <td>2</td>\n",
       "    </tr>\n",
       "    <tr>\n",
       "      <th>2</th>\n",
       "      <td>3</td>\n",
       "    </tr>\n",
       "    <tr>\n",
       "      <th>3</th>\n",
       "      <td>4</td>\n",
       "    </tr>\n",
       "    <tr>\n",
       "      <th>4</th>\n",
       "      <td>5</td>\n",
       "    </tr>\n",
       "  </tbody>\n",
       "</table>\n",
       "</div>"
      ],
      "text/plain": [
       "   0\n",
       "0  2\n",
       "1  2\n",
       "2  3\n",
       "3  4\n",
       "4  5"
      ]
     },
     "execution_count": 120,
     "metadata": {},
     "output_type": "execute_result"
    }
   ],
   "source": [
    "pp"
   ]
  },
  {
   "cell_type": "code",
   "execution_count": null,
   "metadata": {
    "collapsed": true
   },
   "outputs": [],
   "source": []
  }
 ],
 "metadata": {
  "kernelspec": {
   "display_name": "Python 3",
   "language": "python",
   "name": "python3"
  },
  "language_info": {
   "codemirror_mode": {
    "name": "ipython",
    "version": 3
   },
   "file_extension": ".py",
   "mimetype": "text/x-python",
   "name": "python",
   "nbconvert_exporter": "python",
   "pygments_lexer": "ipython3",
   "version": "3.5.4"
  }
 },
 "nbformat": 4,
 "nbformat_minor": 0
}
